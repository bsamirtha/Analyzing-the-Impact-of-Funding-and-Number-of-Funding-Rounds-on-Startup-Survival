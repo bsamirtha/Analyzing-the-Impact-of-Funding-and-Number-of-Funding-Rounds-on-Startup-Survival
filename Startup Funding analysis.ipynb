{
 "cells": [
  {
   "cell_type": "markdown",
   "id": "8647980f-651e-4b69-9345-d54334da07c8",
   "metadata": {},
   "source": [
    "DOMAIN - STARTUP ECOSYSTEM"
   ]
  },
  {
   "cell_type": "markdown",
   "id": "1ebdbc18-63b1-4929-aad9-374716c139da",
   "metadata": {},
   "source": [
    "\n",
    "**Overview:**\n",
    "Company **X, a leading Indian online publisher dedicated to startup industry insights,** is driven by a mission to empower its audience with actionable knowledge. In the dynamic world of startups, the company recognizes the crucial need to answer a pivotal question: What financial factors differentiate thriving, currently operating startups from those that ultimately cease operations?\n",
    "\n",
    "**Objective:**\n",
    "This project seeks to address the critical questions of whether there is a statistically significant difference in the mean funds raised by startups that are currently operating compared to those that have ceased operations. Additionally, we aim to investigate whether there exists a significant disparity in the number of funding rounds between currently operating startups and startups that have closed.\n",
    "\n",
    "**Note:**\n",
    "- Dataset Credits --> [https://www.kaggle.com/datasets/yanmaksi/big-startup-secsees-fail-dataset-from-crunchbase](https://www.kaggle.com/datasets/yanmaksi/big-startup-secsees-fail-dataset-from-crunchbase) Filter on country and status column\n",
    "\n",
    "- Unauthorised use or distribution of this project prohibited @dataanalystduo\n",
    "\n"
   ]
  },
  {
   "cell_type": "markdown",
   "id": "b4d2589d-d189-4d58-aaf2-f6e0e216c999",
   "metadata": {},
   "source": [
    "\n",
    "\n",
    "---\n",
    "\n",
    "**Plan of Action:**\n",
    "\n",
    "1. **Formulating the Hypothesis:** Begin by creating clear and testable hypotheses that lay the foundation for your analysis.\n",
    "2. **Data Exploration and Validation:** Dive into the dataset, conducting a thorough examination to ensure its quality and coherence, while also gaining a deeper understanding of the data.\n",
    "3. **Selecting the Appropriate Statistical Test:** Identify the most suitable statistical tests or methods that align with your hypotheses and objectives.\n",
    "4. **Statistical Analysis:** Execute the selected tests or analyses on the dataset, generating meaningful insights and drawing statistically sound conclusions.\n",
    "5. **Concluding Insights:** Summarize the findings and conclusions drawn from the analysis, providing actionable insights that address your research objectives effectively.\n",
    "\n"
   ]
  },
  {
   "cell_type": "code",
   "execution_count": 4,
   "id": "9b347f0d-3602-4762-beda-a67b418c7752",
   "metadata": {},
   "outputs": [],
   "source": [
    "#Import libraries \n",
    "import numpy as np\n",
    "import pandas as pd\n",
    "import matplotlib.pyplot as plt\n",
    "import seaborn as sns\n",
    "\n",
    "%matplotlib inline"
   ]
  },
  {
   "cell_type": "code",
   "execution_count": 6,
   "id": "047f642a-d90d-4015-a17c-b1abc3a36c1a",
   "metadata": {},
   "outputs": [],
   "source": [
    "#read the excel file\n",
    "\n",
    "df = pd.read_excel(r\"C:\\Users\\BS . AMIRTHA\\Downloads\\funding-dataset.xlsx\")"
   ]
  },
  {
   "cell_type": "code",
   "execution_count": 7,
   "id": "6c145367-1466-4fce-bb88-758ab9465d63",
   "metadata": {},
   "outputs": [
    {
     "data": {
      "text/html": [
       "<div>\n",
       "<style scoped>\n",
       "    .dataframe tbody tr th:only-of-type {\n",
       "        vertical-align: middle;\n",
       "    }\n",
       "\n",
       "    .dataframe tbody tr th {\n",
       "        vertical-align: top;\n",
       "    }\n",
       "\n",
       "    .dataframe thead th {\n",
       "        text-align: right;\n",
       "    }\n",
       "</style>\n",
       "<table border=\"1\" class=\"dataframe\">\n",
       "  <thead>\n",
       "    <tr style=\"text-align: right;\">\n",
       "      <th></th>\n",
       "      <th>permalink</th>\n",
       "      <th>name</th>\n",
       "      <th>homepage_url</th>\n",
       "      <th>category_list</th>\n",
       "      <th>funding_total_usd</th>\n",
       "      <th>status</th>\n",
       "      <th>country_code</th>\n",
       "      <th>state_code</th>\n",
       "      <th>region</th>\n",
       "      <th>city</th>\n",
       "      <th>funding_rounds</th>\n",
       "      <th>founded_at</th>\n",
       "      <th>first_funding_at</th>\n",
       "      <th>last_funding_at</th>\n",
       "    </tr>\n",
       "  </thead>\n",
       "  <tbody>\n",
       "    <tr>\n",
       "      <th>0</th>\n",
       "      <td>/organization/-fame</td>\n",
       "      <td>#fame</td>\n",
       "      <td>http://livfame.com</td>\n",
       "      <td>Media</td>\n",
       "      <td>10000000.0</td>\n",
       "      <td>operating</td>\n",
       "      <td>IND</td>\n",
       "      <td>16.0</td>\n",
       "      <td>Mumbai</td>\n",
       "      <td>Mumbai</td>\n",
       "      <td>1</td>\n",
       "      <td>NaN</td>\n",
       "      <td>2015-01-05</td>\n",
       "      <td>2015-01-05</td>\n",
       "    </tr>\n",
       "    <tr>\n",
       "      <th>1</th>\n",
       "      <td>/organization/21diamonds-india</td>\n",
       "      <td>21Diamonds</td>\n",
       "      <td>http://www.21diamonds.de</td>\n",
       "      <td>E-Commerce</td>\n",
       "      <td>6369507.0</td>\n",
       "      <td>operating</td>\n",
       "      <td>IND</td>\n",
       "      <td>10.0</td>\n",
       "      <td>New Delhi</td>\n",
       "      <td>Gurgaon</td>\n",
       "      <td>1</td>\n",
       "      <td>2012-06-01 00:00:00</td>\n",
       "      <td>2012-11-15</td>\n",
       "      <td>2012-11-15</td>\n",
       "    </tr>\n",
       "    <tr>\n",
       "      <th>2</th>\n",
       "      <td>/organization/247-learning-private</td>\n",
       "      <td>24x7 Learning</td>\n",
       "      <td>http://www.24x7learning.com</td>\n",
       "      <td>EdTech|Education|Systems</td>\n",
       "      <td>4000000.0</td>\n",
       "      <td>operating</td>\n",
       "      <td>IND</td>\n",
       "      <td>19.0</td>\n",
       "      <td>Bangalore</td>\n",
       "      <td>Bangalore</td>\n",
       "      <td>1</td>\n",
       "      <td>2001-01-01 00:00:00</td>\n",
       "      <td>2007-11-06</td>\n",
       "      <td>2007-11-06</td>\n",
       "    </tr>\n",
       "    <tr>\n",
       "      <th>3</th>\n",
       "      <td>/organization/33coupons</td>\n",
       "      <td>33Coupons</td>\n",
       "      <td>http://33coupons.in</td>\n",
       "      <td>Internet</td>\n",
       "      <td>20000.0</td>\n",
       "      <td>operating</td>\n",
       "      <td>IND</td>\n",
       "      <td>36.0</td>\n",
       "      <td>Kanpur</td>\n",
       "      <td>Kanpur</td>\n",
       "      <td>1</td>\n",
       "      <td>2015-05-01 00:00:00</td>\n",
       "      <td>2015-07-06</td>\n",
       "      <td>2015-07-06</td>\n",
       "    </tr>\n",
       "    <tr>\n",
       "      <th>4</th>\n",
       "      <td>/organization/3dsoc</td>\n",
       "      <td>3DSoC</td>\n",
       "      <td>http://www.3dsoc.com</td>\n",
       "      <td>3D|Mobile</td>\n",
       "      <td>2065000.0</td>\n",
       "      <td>operating</td>\n",
       "      <td>IND</td>\n",
       "      <td>19.0</td>\n",
       "      <td>Bangalore</td>\n",
       "      <td>Bangalore</td>\n",
       "      <td>2</td>\n",
       "      <td>2006-06-01 00:00:00</td>\n",
       "      <td>2007-12-01</td>\n",
       "      <td>2010-08-01</td>\n",
       "    </tr>\n",
       "  </tbody>\n",
       "</table>\n",
       "</div>"
      ],
      "text/plain": [
       "                            permalink           name  \\\n",
       "0                 /organization/-fame          #fame   \n",
       "1      /organization/21diamonds-india     21Diamonds   \n",
       "2  /organization/247-learning-private  24x7 Learning   \n",
       "3             /organization/33coupons      33Coupons   \n",
       "4                 /organization/3dsoc          3DSoC   \n",
       "\n",
       "                  homepage_url             category_list  funding_total_usd  \\\n",
       "0           http://livfame.com                     Media         10000000.0   \n",
       "1     http://www.21diamonds.de                E-Commerce          6369507.0   \n",
       "2  http://www.24x7learning.com  EdTech|Education|Systems          4000000.0   \n",
       "3          http://33coupons.in                  Internet            20000.0   \n",
       "4         http://www.3dsoc.com                 3D|Mobile          2065000.0   \n",
       "\n",
       "      status country_code  state_code     region       city  funding_rounds  \\\n",
       "0  operating          IND        16.0     Mumbai     Mumbai               1   \n",
       "1  operating          IND        10.0  New Delhi    Gurgaon               1   \n",
       "2  operating          IND        19.0  Bangalore  Bangalore               1   \n",
       "3  operating          IND        36.0     Kanpur     Kanpur               1   \n",
       "4  operating          IND        19.0  Bangalore  Bangalore               2   \n",
       "\n",
       "            founded_at first_funding_at last_funding_at  \n",
       "0                  NaN       2015-01-05      2015-01-05  \n",
       "1  2012-06-01 00:00:00       2012-11-15      2012-11-15  \n",
       "2  2001-01-01 00:00:00       2007-11-06      2007-11-06  \n",
       "3  2015-05-01 00:00:00       2015-07-06      2015-07-06  \n",
       "4  2006-06-01 00:00:00       2007-12-01      2010-08-01  "
      ]
     },
     "execution_count": 7,
     "metadata": {},
     "output_type": "execute_result"
    }
   ],
   "source": [
    "df.head() #top 5 rows "
   ]
  },
  {
   "cell_type": "code",
   "execution_count": 9,
   "id": "1dd2cbb7-049b-4e8c-b4e9-6de70e7e69ca",
   "metadata": {},
   "outputs": [
    {
     "data": {
      "text/plain": [
       "(1134, 14)"
      ]
     },
     "execution_count": 9,
     "metadata": {},
     "output_type": "execute_result"
    }
   ],
   "source": [
    "df.shape"
   ]
  },
  {
   "cell_type": "markdown",
   "id": "3a1f2a8b-8901-4fb6-b61f-c5913975884f",
   "metadata": {},
   "source": [
    "In our dataset, we have gathered data on 1,134 startups based in India, capturing essential details across 13 columns. While all columns provide valuable information, our primary focus for this particular analysis will be directed towards understanding the dynamics of these startups through the lens of their \"Status,\" \"Funding Total (in USD),\" and \"Funding Rounds.\""
   ]
  },
  {
   "cell_type": "markdown",
   "id": "5a35f2a1-de8e-451f-801c-33b790e4d500",
   "metadata": {},
   "source": [
    "Step 1: Building Hypothesis:\n",
    "\n",
    "Mean Funds Raised\n",
    "Null Hypothesis (H0): There is no statistically significant difference in the mean funds raised by currently operating startups and startups that have closed.\n",
    "Alternative Hypothesis (H1): There is a statistically significant difference in the mean funds raised by currently operating startups and startups that have closed.\n",
    "\n",
    "Number of Funding Rounds\n",
    "Null Hypothesis (H0): There is no statistically significant difference in the number of funding rounds between currently operating startups and startups that have closed.\n",
    "Alternative Hypothesis (H1): There is a statistically significant difference in the number of funding rounds between currently operating startups and startups that have closed."
   ]
  },
  {
   "cell_type": "markdown",
   "id": "3b0183ab-3312-4c78-8db8-d71a99036296",
   "metadata": {},
   "source": [
    "*Step 2*:  Data Exploration and Validation"
   ]
  },
  {
   "cell_type": "code",
   "execution_count": 12,
   "id": "03c96800-f167-4c82-8a94-e71ab7e6a9b3",
   "metadata": {},
   "outputs": [
    {
     "data": {
      "text/plain": [
       "(1134, 14)"
      ]
     },
     "execution_count": 12,
     "metadata": {},
     "output_type": "execute_result"
    }
   ],
   "source": [
    "df.drop_duplicates().shape"
   ]
  },
  {
   "cell_type": "markdown",
   "id": "7d3364a9-c166-49a0-bb02-dc672c6ff6b7",
   "metadata": {},
   "source": [
    "Since there is no duplicates which is confirmed with its shape we can further explore"
   ]
  },
  {
   "cell_type": "markdown",
   "id": "e68bdede-ee83-40d8-ad47-2db5d7324750",
   "metadata": {},
   "source": [
    "\"We are examining our variable of interest to identify the presence of any null values.\""
   ]
  },
  {
   "cell_type": "code",
   "execution_count": 17,
   "id": "7580dbad-f0b8-4c1d-aa78-2b9abc96f7b0",
   "metadata": {},
   "outputs": [
    {
     "name": "stdout",
     "output_type": "stream",
     "text": [
      "status               0\n",
      "funding_total_usd    0\n",
      "funding_rounds       0\n",
      "dtype: int64\n"
     ]
    }
   ],
   "source": [
    "columns_to_check = ['status','funding_total_usd','funding_rounds']\n",
    "#checking null values in the specified columns\n",
    "null_counts = df[columns_to_check].isnull().sum()\n",
    "#display\n",
    "print(null_counts)"
   ]
  },
  {
   "cell_type": "markdown",
   "id": "432f7f35-dc14-4b8d-a344-965c0246d10b",
   "metadata": {},
   "source": [
    "Therefore there is no null values"
   ]
  },
  {
   "cell_type": "code",
   "execution_count": 19,
   "id": "7a1ae6d4-3548-44bc-b572-ef4d1828947e",
   "metadata": {},
   "outputs": [
    {
     "data": {
      "image/png": "[encoded data removed]",
      "text/plain": [
       "<Figure size 800x600 with 1 Axes>"
      ]
     },
     "metadata": {},
     "output_type": "display_data"
    }
   ],
   "source": [
    "#Understanding the distribution of startups\n",
    "\n",
    "# Visualize 'Status' column\n",
    "\n",
    "status_counts = df['status'].value_counts()\n",
    "\n",
    "# Plotting\n",
    "plt.figure(figsize=(8, 6))\n",
    "plt.bar(status_counts.index, status_counts.values, color='skyblue')\n",
    "plt.xlabel('Startup Status')\n",
    "plt.ylabel('Count')\n",
    "plt.title('Distribution of Startup Status')\n",
    "\n",
    "# Adding data labels (count values) to the bars\n",
    "for i, v in enumerate(status_counts):\n",
    "    plt.text(i, v + 10, v, ha='center')\n",
    "    # i: This is the x-coordinate where the data label will be placed.\n",
    "    # v + 10: This is the y-coordinate where the data label will be placed\n",
    "    # ha='center': This parameter specifies the horizontal alignment of the text, ensuring that it's centered above each bar.\n",
    "\n",
    "# Display the plot\n",
    "plt.show()"
   ]
  },
  {
   "cell_type": "markdown",
   "id": "e16b2bc8-a94d-47a3-8bad-38daa2c042b6",
   "metadata": {},
   "source": [
    "We observe that the sample size for operating startups is 1,085, while for closed startups, it is 49. Given the substantial difference in these sample sizes, we can conclude that the samples are unequal. This inequality in sample size may impact the statistical tests we perform, requiring us to consider methods that can accommodate or adjust for unequal sample sizes"
   ]
  },
  {
   "cell_type": "code",
   "execution_count": 21,
   "id": "2a8b854c-cafa-4e61-a4b8-35b3bd84eba3",
   "metadata": {},
   "outputs": [
    {
     "name": "stdout",
     "output_type": "stream",
     "text": [
      "count         1134\n",
      "mean      23391193\n",
      "std      153640842\n",
      "min            569\n",
      "25%         200000\n",
      "50%        1275000\n",
      "75%       10000000\n",
      "max     3151140000\n",
      "Name: funding_total_usd, dtype: float64\n"
     ]
    }
   ],
   "source": [
    "# Let us understand more about funding column\n",
    "\n",
    "# Set the display format for float numbers to display complete numbers\n",
    "pd.options.display.float_format = '{:.0f}'.format\n",
    "\n",
    "# By setting pd.options.display.float_format to ' {:.0f}'.format, you instruct pandas to format floating-point numbers with \n",
    "# zero decimal places, effectively displaying complete numbers.\n",
    "\n",
    "# Assuming startup_df is your DataFrame\n",
    "description = df['funding_total_usd'].describe()\n",
    "\n",
    "# Display the description with complete numbers\n",
    "print(description)"
   ]
  },
  {
   "cell_type": "markdown",
   "id": "452741f0-04fa-435d-bc98-f7b9f7ea9316",
   "metadata": {},
   "source": [
    "Overall average funding raised is 23 million dollars. Minimum funding is just 569 dollars and maximum is 3 billion dollars"
   ]
  },
  {
   "cell_type": "code",
   "execution_count": 23,
   "id": "a4a1a961-300e-4f4c-8430-2528171f6c9a",
   "metadata": {},
   "outputs": [
    {
     "data": {
      "text/html": [
       "<div>\n",
       "<style scoped>\n",
       "    .dataframe tbody tr th:only-of-type {\n",
       "        vertical-align: middle;\n",
       "    }\n",
       "\n",
       "    .dataframe tbody tr th {\n",
       "        vertical-align: top;\n",
       "    }\n",
       "\n",
       "    .dataframe thead th {\n",
       "        text-align: right;\n",
       "    }\n",
       "</style>\n",
       "<table border=\"1\" class=\"dataframe\">\n",
       "  <thead>\n",
       "    <tr style=\"text-align: right;\">\n",
       "      <th></th>\n",
       "      <th>permalink</th>\n",
       "      <th>name</th>\n",
       "      <th>homepage_url</th>\n",
       "      <th>category_list</th>\n",
       "      <th>funding_total_usd</th>\n",
       "      <th>status</th>\n",
       "      <th>country_code</th>\n",
       "      <th>state_code</th>\n",
       "      <th>region</th>\n",
       "      <th>city</th>\n",
       "      <th>funding_rounds</th>\n",
       "      <th>founded_at</th>\n",
       "      <th>first_funding_at</th>\n",
       "      <th>last_funding_at</th>\n",
       "    </tr>\n",
       "  </thead>\n",
       "  <tbody>\n",
       "    <tr>\n",
       "      <th>321</th>\n",
       "      <td>/organization/flipkart</td>\n",
       "      <td>Flipkart</td>\n",
       "      <td>http://www.flipkart.com</td>\n",
       "      <td>E-Commerce|Online Shopping</td>\n",
       "      <td>3151140000</td>\n",
       "      <td>operating</td>\n",
       "      <td>IND</td>\n",
       "      <td>19</td>\n",
       "      <td>Bangalore</td>\n",
       "      <td>Bangalore</td>\n",
       "      <td>12</td>\n",
       "      <td>2007-09-01 00:00:00</td>\n",
       "      <td>2009-01-01</td>\n",
       "      <td>2015-07-28</td>\n",
       "    </tr>\n",
       "  </tbody>\n",
       "</table>\n",
       "</div>"
      ],
      "text/plain": [
       "                  permalink      name             homepage_url  \\\n",
       "321  /organization/flipkart  Flipkart  http://www.flipkart.com   \n",
       "\n",
       "                  category_list  funding_total_usd     status country_code  \\\n",
       "321  E-Commerce|Online Shopping         3151140000  operating          IND   \n",
       "\n",
       "     state_code     region       city  funding_rounds           founded_at  \\\n",
       "321          19  Bangalore  Bangalore              12  2007-09-01 00:00:00   \n",
       "\n",
       "    first_funding_at last_funding_at  \n",
       "321       2009-01-01      2015-07-28  "
      ]
     },
     "execution_count": 23,
     "metadata": {},
     "output_type": "execute_result"
    }
   ],
   "source": [
    "# Maximum funding\n",
    "df[df['funding_total_usd']==3151140000]"
   ]
  },
  {
   "cell_type": "markdown",
   "id": "e1dbe9af-d36e-462d-aebc-4ffd542fc03d",
   "metadata": {},
   "source": [
    "The highest funding amount is attributed to Flipkart, a notable leader in the industry, aligning with its substantial financial requirements and prominence."
   ]
  },
  {
   "cell_type": "code",
   "execution_count": 25,
   "id": "187c7c3a-0ce4-4801-b077-94a922f41306",
   "metadata": {},
   "outputs": [
    {
     "data": {
      "text/html": [
       "<div>\n",
       "<style scoped>\n",
       "    .dataframe tbody tr th:only-of-type {\n",
       "        vertical-align: middle;\n",
       "    }\n",
       "\n",
       "    .dataframe tbody tr th {\n",
       "        vertical-align: top;\n",
       "    }\n",
       "\n",
       "    .dataframe thead th {\n",
       "        text-align: right;\n",
       "    }\n",
       "</style>\n",
       "<table border=\"1\" class=\"dataframe\">\n",
       "  <thead>\n",
       "    <tr style=\"text-align: right;\">\n",
       "      <th></th>\n",
       "      <th>permalink</th>\n",
       "      <th>name</th>\n",
       "      <th>homepage_url</th>\n",
       "      <th>category_list</th>\n",
       "      <th>funding_total_usd</th>\n",
       "      <th>status</th>\n",
       "      <th>country_code</th>\n",
       "      <th>state_code</th>\n",
       "      <th>region</th>\n",
       "      <th>city</th>\n",
       "      <th>funding_rounds</th>\n",
       "      <th>founded_at</th>\n",
       "      <th>first_funding_at</th>\n",
       "      <th>last_funding_at</th>\n",
       "    </tr>\n",
       "  </thead>\n",
       "  <tbody>\n",
       "    <tr>\n",
       "      <th>834</th>\n",
       "      <td>/organization/ruralserver</td>\n",
       "      <td>RuralServer</td>\n",
       "      <td>http://www.ruralserver.com</td>\n",
       "      <td>Cloud Computing|Cloud Data Services|Domains|In...</td>\n",
       "      <td>569</td>\n",
       "      <td>operating</td>\n",
       "      <td>IND</td>\n",
       "      <td>36</td>\n",
       "      <td>New Delhi</td>\n",
       "      <td>Noida</td>\n",
       "      <td>1</td>\n",
       "      <td>2010-01-01 00:00:00</td>\n",
       "      <td>2013-10-17</td>\n",
       "      <td>2013-10-17</td>\n",
       "    </tr>\n",
       "  </tbody>\n",
       "</table>\n",
       "</div>"
      ],
      "text/plain": [
       "                     permalink         name                homepage_url  \\\n",
       "834  /organization/ruralserver  RuralServer  http://www.ruralserver.com   \n",
       "\n",
       "                                         category_list  funding_total_usd  \\\n",
       "834  Cloud Computing|Cloud Data Services|Domains|In...                569   \n",
       "\n",
       "        status country_code  state_code     region   city  funding_rounds  \\\n",
       "834  operating          IND          36  New Delhi  Noida               1   \n",
       "\n",
       "              founded_at first_funding_at last_funding_at  \n",
       "834  2010-01-01 00:00:00       2013-10-17      2013-10-17  "
      ]
     },
     "execution_count": 25,
     "metadata": {},
     "output_type": "execute_result"
    }
   ],
   "source": [
    "# Least funded\n",
    "\n",
    "df[df['funding_total_usd']==569]"
   ]
  },
  {
   "cell_type": "markdown",
   "id": "9905107a-88dc-4c2d-819b-984de0ddf829",
   "metadata": {},
   "source": [
    "Rural Server, despite being one of the least funded startups, intriguingly continues to operate successfully."
   ]
  },
  {
   "cell_type": "code",
   "execution_count": 27,
   "id": "750623b5-7dc6-468a-b370-9f2ca06e632f",
   "metadata": {},
   "outputs": [
    {
     "data": {
      "image/png": "[encoded data removed]",
      "text/plain": [
       "<Figure size 1200x600 with 1 Axes>"
      ]
     },
     "metadata": {},
     "output_type": "display_data"
    }
   ],
   "source": [
    "# Assuming df is your DataFrame\n",
    "funding_round_counts = df['funding_rounds'].value_counts().sort_index()\n",
    "\n",
    "plt.figure(figsize=(12, 6))\n",
    "bars= plt.bar(funding_round_counts.index, funding_round_counts.values, color='skyblue', edgecolor='black')\n",
    "plt.xlabel('Number of Funding Rounds')\n",
    "plt.ylabel('Count')\n",
    "plt.title('Distribution of Number of Funding Rounds')\n",
    "plt.grid(axis='y', linestyle='--', alpha=0.7)\n",
    "\n",
    "# Set the x-axis ticks explicitly to ensure all values are visible\n",
    "plt.xticks(funding_round_counts.index)\n",
    "\n",
    "# Adding data labels (count values) to the bars\n",
    "for bar, count in zip(bars, funding_round_counts):\n",
    "    plt.text(bar.get_x() + bar.get_width() / 2, bar.get_height() + 10, count, ha='center')\n",
    "# bar.get_x() + bar.get_width() / 2: This part determines the x-coordinate where the data label will be placed. \n",
    "# It calculates the center of the current bar by adding half of the bar's width to its starting x-coordinate.\n",
    "# bar.get_height() + 10: This part determines the y-coordinate where the data label will be placed. \n",
    "# It positions the label slightly above the top of the bar by adding 10 units to the bar's height.\n",
    "\n",
    "# Display the plot\n",
    "plt.show()"
   ]
  },
  {
   "cell_type": "markdown",
   "id": "3be0d13d-2212-47a6-8104-8eba4c8910cb",
   "metadata": {},
   "source": [
    "Remarkably, the majority of startups in our dataset, precisely 795 of them, have undergone just one round of funding. In contrast, only two startups have secured more than eight rounds of funding. Now, let's delve into identifying these exceptional outliers within the dataset.\n",
    "\n",
    "While running the hypothesis test we can create 3 categories for no. of funding rounds ~ 1, 2, 3+"
   ]
  },
  {
   "cell_type": "code",
   "execution_count": 29,
   "id": "015c592c-ad70-4bf5-a127-a48ea56f8ff4",
   "metadata": {},
   "outputs": [
    {
     "data": {
      "text/html": [
       "<div>\n",
       "<style scoped>\n",
       "    .dataframe tbody tr th:only-of-type {\n",
       "        vertical-align: middle;\n",
       "    }\n",
       "\n",
       "    .dataframe tbody tr th {\n",
       "        vertical-align: top;\n",
       "    }\n",
       "\n",
       "    .dataframe thead th {\n",
       "        text-align: right;\n",
       "    }\n",
       "</style>\n",
       "<table border=\"1\" class=\"dataframe\">\n",
       "  <thead>\n",
       "    <tr style=\"text-align: right;\">\n",
       "      <th></th>\n",
       "      <th>permalink</th>\n",
       "      <th>name</th>\n",
       "      <th>homepage_url</th>\n",
       "      <th>category_list</th>\n",
       "      <th>funding_total_usd</th>\n",
       "      <th>status</th>\n",
       "      <th>country_code</th>\n",
       "      <th>state_code</th>\n",
       "      <th>region</th>\n",
       "      <th>city</th>\n",
       "      <th>funding_rounds</th>\n",
       "      <th>founded_at</th>\n",
       "      <th>first_funding_at</th>\n",
       "      <th>last_funding_at</th>\n",
       "    </tr>\n",
       "  </thead>\n",
       "  <tbody>\n",
       "    <tr>\n",
       "      <th>889</th>\n",
       "      <td>/organization/snapdeal</td>\n",
       "      <td>Snapdeal</td>\n",
       "      <td>http://www.snapdeal.com</td>\n",
       "      <td>E-Commerce</td>\n",
       "      <td>1897699998</td>\n",
       "      <td>operating</td>\n",
       "      <td>IND</td>\n",
       "      <td>7</td>\n",
       "      <td>New Delhi</td>\n",
       "      <td>New Delhi</td>\n",
       "      <td>11</td>\n",
       "      <td>2010-01-01 00:00:00</td>\n",
       "      <td>2011-01-01</td>\n",
       "      <td>2015-08-18</td>\n",
       "    </tr>\n",
       "  </tbody>\n",
       "</table>\n",
       "</div>"
      ],
      "text/plain": [
       "                  permalink      name             homepage_url category_list  \\\n",
       "889  /organization/snapdeal  Snapdeal  http://www.snapdeal.com    E-Commerce   \n",
       "\n",
       "     funding_total_usd     status country_code  state_code     region  \\\n",
       "889         1897699998  operating          IND           7  New Delhi   \n",
       "\n",
       "          city  funding_rounds           founded_at first_funding_at  \\\n",
       "889  New Delhi              11  2010-01-01 00:00:00       2011-01-01   \n",
       "\n",
       "    last_funding_at  \n",
       "889      2015-08-18  "
      ]
     },
     "execution_count": 29,
     "metadata": {},
     "output_type": "execute_result"
    }
   ],
   "source": [
    "df[df['funding_rounds']==11]"
   ]
  },
  {
   "cell_type": "code",
   "execution_count": 30,
   "id": "69084b15-aacf-4c47-9bf6-6d7b0b6010a5",
   "metadata": {},
   "outputs": [
    {
     "data": {
      "text/html": [
       "<div>\n",
       "<style scoped>\n",
       "    .dataframe tbody tr th:only-of-type {\n",
       "        vertical-align: middle;\n",
       "    }\n",
       "\n",
       "    .dataframe tbody tr th {\n",
       "        vertical-align: top;\n",
       "    }\n",
       "\n",
       "    .dataframe thead th {\n",
       "        text-align: right;\n",
       "    }\n",
       "</style>\n",
       "<table border=\"1\" class=\"dataframe\">\n",
       "  <thead>\n",
       "    <tr style=\"text-align: right;\">\n",
       "      <th></th>\n",
       "      <th>permalink</th>\n",
       "      <th>name</th>\n",
       "      <th>homepage_url</th>\n",
       "      <th>category_list</th>\n",
       "      <th>funding_total_usd</th>\n",
       "      <th>status</th>\n",
       "      <th>country_code</th>\n",
       "      <th>state_code</th>\n",
       "      <th>region</th>\n",
       "      <th>city</th>\n",
       "      <th>funding_rounds</th>\n",
       "      <th>founded_at</th>\n",
       "      <th>first_funding_at</th>\n",
       "      <th>last_funding_at</th>\n",
       "    </tr>\n",
       "  </thead>\n",
       "  <tbody>\n",
       "    <tr>\n",
       "      <th>321</th>\n",
       "      <td>/organization/flipkart</td>\n",
       "      <td>Flipkart</td>\n",
       "      <td>http://www.flipkart.com</td>\n",
       "      <td>E-Commerce|Online Shopping</td>\n",
       "      <td>3151140000</td>\n",
       "      <td>operating</td>\n",
       "      <td>IND</td>\n",
       "      <td>19</td>\n",
       "      <td>Bangalore</td>\n",
       "      <td>Bangalore</td>\n",
       "      <td>12</td>\n",
       "      <td>2007-09-01 00:00:00</td>\n",
       "      <td>2009-01-01</td>\n",
       "      <td>2015-07-28</td>\n",
       "    </tr>\n",
       "  </tbody>\n",
       "</table>\n",
       "</div>"
      ],
      "text/plain": [
       "                  permalink      name             homepage_url  \\\n",
       "321  /organization/flipkart  Flipkart  http://www.flipkart.com   \n",
       "\n",
       "                  category_list  funding_total_usd     status country_code  \\\n",
       "321  E-Commerce|Online Shopping         3151140000  operating          IND   \n",
       "\n",
       "     state_code     region       city  funding_rounds           founded_at  \\\n",
       "321          19  Bangalore  Bangalore              12  2007-09-01 00:00:00   \n",
       "\n",
       "    first_funding_at last_funding_at  \n",
       "321       2009-01-01      2015-07-28  "
      ]
     },
     "execution_count": 30,
     "metadata": {},
     "output_type": "execute_result"
    }
   ],
   "source": [
    "df[df['funding_rounds']==12]"
   ]
  },
  {
   "cell_type": "markdown",
   "id": "258f1ec7-696c-427d-b16d-d092af8c2780",
   "metadata": {},
   "source": [
    "These represent some of the foremost e-commerce platforms, notably Snapdeal and Flipkart.\n",
    "\n",
    "Now that we've gained a comprehensive understanding of the dataset, let's proceed to test our hypothesis."
   ]
  },
  {
   "cell_type": "code",
   "execution_count": 33,
   "id": "d0a61499-c3f7-4901-9853-0b93faeb8602",
   "metadata": {},
   "outputs": [
    {
     "name": "stdout",
     "output_type": "stream",
     "text": [
      "Levene's Test Statistic: 0.36074537025282777\n",
      "P-value: 0.5482127964683872\n",
      "Fail to reject the null hypothesis: Variances are equal.\n"
     ]
    }
   ],
   "source": [
    "from scipy import stats\n",
    "\n",
    "group1 = df[df['status'] == 'operating']['funding_total_usd']\n",
    "group2 = df[df['status'] == 'closed']['funding_total_usd']\n",
    "\n",
    "stat, p_value = stats.levene(group1, group2)\n",
    "print(f\"Levene's Test Statistic: {stat}\")\n",
    "print(f\"P-value: {p_value}\")\n",
    "\n",
    "if p_value < 0.05:\n",
    "    print(\"Reject the null hypothesis: Variances are not equal.\")\n",
    "else:\n",
    "    print(\"Fail to reject the null hypothesis: Variances are equal.\")\n"
   ]
  },
  {
   "cell_type": "markdown",
   "id": "29df556d-bffc-4b4d-b850-43721f6dbf56",
   "metadata": {},
   "source": [
    "We have determined that the variances are equal, thus meeting the assumption for the independent sample t-test. We can now proceed with the independent sample t-test confidently"
   ]
  },
  {
   "cell_type": "markdown",
   "id": "16c50408-5839-46bd-a165-b438ee164bc0",
   "metadata": {},
   "source": [
    "### Number of Funding Rounds"
   ]
  },
  {
   "cell_type": "markdown",
   "id": "9f392e3b-2b9d-462d-82b9-e274fcf5219b",
   "metadata": {},
   "source": [
    "The Chi-Square Test of Independence is typically used when you have categorical data and you want to investigate whether there is a statistically significant association or relationship between two categorical variables. \n",
    "\n",
    "In our case, you are interested in the number of funding rounds (which is likely a discrete, count variable) and the status of startups (which is categorical - either \"currently operating\" or \"closed\"). \n",
    "\n",
    "Here's why the Chi-Square Test of Independence is suitable for our hypothesis. \n",
    "\n",
    "We know that observations are independent, Cells in the contingency table are mutually exclusive, The only thing we need to check is if ~ Expected value of cells should be 5 or greater in at least 80% of cells."
   ]
  },
  {
   "cell_type": "markdown",
   "id": "cf32c9a3-0e09-4d72-9dda-ae106f6de311",
   "metadata": {},
   "source": [
    "Step 4 & 5: Statistical Analysis & Conclusion"
   ]
  },
  {
   "cell_type": "markdown",
   "id": "158f967f-aafe-43c5-8845-67d0f9f17d7a",
   "metadata": {},
   "source": [
    "### Mean Fund Raised"
   ]
  },
  {
   "cell_type": "code",
   "execution_count": 36,
   "id": "b6e261a3-4138-4bea-a98c-2f27002667db",
   "metadata": {},
   "outputs": [
    {
     "data": {
      "text/plain": [
       "1085"
      ]
     },
     "execution_count": 36,
     "metadata": {},
     "output_type": "execute_result"
    }
   ],
   "source": [
    "# No. of startups which are operating\n",
    "df[df['status']=='operating']['funding_total_usd'].count()"
   ]
  },
  {
   "cell_type": "code",
   "execution_count": 37,
   "id": "7c3a2145-5767-4b2a-95f0-bab67c9b9275",
   "metadata": {},
   "outputs": [
    {
     "data": {
      "text/plain": [
       "49"
      ]
     },
     "execution_count": 37,
     "metadata": {},
     "output_type": "execute_result"
    }
   ],
   "source": [
    "df[df['status']=='closed']['funding_total_usd'].count()"
   ]
  },
  {
   "cell_type": "code",
   "execution_count": 39,
   "id": "5b36b9a2-f7f2-4c29-9b50-e1a1afe75c33",
   "metadata": {},
   "outputs": [],
   "source": [
    "# Create a new data frame of only those companies which are still operating and their respective funds\n",
    "\n",
    "df1 = df.loc[df['status'] == 'operating', ['funding_total_usd']].rename(columns={'funding_total_usd':'Funds_Sample1'}).reset_index(drop=True)"
   ]
  },
  {
   "cell_type": "code",
   "execution_count": 40,
   "id": "c5d2bbfc-4d75-4062-b6fc-4bc5733b62dc",
   "metadata": {},
   "outputs": [
    {
     "data": {
      "text/html": [
       "<div>\n",
       "<style scoped>\n",
       "    .dataframe tbody tr th:only-of-type {\n",
       "        vertical-align: middle;\n",
       "    }\n",
       "\n",
       "    .dataframe tbody tr th {\n",
       "        vertical-align: top;\n",
       "    }\n",
       "\n",
       "    .dataframe thead th {\n",
       "        text-align: right;\n",
       "    }\n",
       "</style>\n",
       "<table border=\"1\" class=\"dataframe\">\n",
       "  <thead>\n",
       "    <tr style=\"text-align: right;\">\n",
       "      <th></th>\n",
       "      <th>Funds_Sample1</th>\n",
       "    </tr>\n",
       "  </thead>\n",
       "  <tbody>\n",
       "    <tr>\n",
       "      <th>0</th>\n",
       "      <td>10000000</td>\n",
       "    </tr>\n",
       "    <tr>\n",
       "      <th>1</th>\n",
       "      <td>6369507</td>\n",
       "    </tr>\n",
       "    <tr>\n",
       "      <th>2</th>\n",
       "      <td>4000000</td>\n",
       "    </tr>\n",
       "    <tr>\n",
       "      <th>3</th>\n",
       "      <td>20000</td>\n",
       "    </tr>\n",
       "    <tr>\n",
       "      <th>4</th>\n",
       "      <td>2065000</td>\n",
       "    </tr>\n",
       "  </tbody>\n",
       "</table>\n",
       "</div>"
      ],
      "text/plain": [
       "   Funds_Sample1\n",
       "0       10000000\n",
       "1        6369507\n",
       "2        4000000\n",
       "3          20000\n",
       "4        2065000"
      ]
     },
     "execution_count": 40,
     "metadata": {},
     "output_type": "execute_result"
    }
   ],
   "source": [
    "df1.head()"
   ]
  },
  {
   "cell_type": "markdown",
   "id": "4b444405-635c-45e5-bae5-5cc66e6d98ff",
   "metadata": {},
   "source": [
    "This provides insights into the funds raised by startups that are currently operational. It highlights the financial resources these active startups have accumulated, offering a clearer understanding of their funding levels."
   ]
  },
  {
   "cell_type": "code",
   "execution_count": 42,
   "id": "9435fd23-da96-47af-bd69-ee09db55e56e",
   "metadata": {},
   "outputs": [],
   "source": [
    "# Create a new data frame of only those companies which are closed and their respective funds\n",
    "\n",
    "df2 = df.loc[df['status'] == 'closed', ['funding_total_usd']].rename(columns={'funding_total_usd':'Funds_Sample2'}).reset_index(drop=True)"
   ]
  },
  {
   "cell_type": "code",
   "execution_count": 43,
   "id": "7a9a7a19-bcca-4cb4-8514-90b3ff78981e",
   "metadata": {},
   "outputs": [
    {
     "data": {
      "text/html": [
       "<div>\n",
       "<style scoped>\n",
       "    .dataframe tbody tr th:only-of-type {\n",
       "        vertical-align: middle;\n",
       "    }\n",
       "\n",
       "    .dataframe tbody tr th {\n",
       "        vertical-align: top;\n",
       "    }\n",
       "\n",
       "    .dataframe thead th {\n",
       "        text-align: right;\n",
       "    }\n",
       "</style>\n",
       "<table border=\"1\" class=\"dataframe\">\n",
       "  <thead>\n",
       "    <tr style=\"text-align: right;\">\n",
       "      <th></th>\n",
       "      <th>Funds_Sample2</th>\n",
       "    </tr>\n",
       "  </thead>\n",
       "  <tbody>\n",
       "    <tr>\n",
       "      <th>0</th>\n",
       "      <td>25000</td>\n",
       "    </tr>\n",
       "    <tr>\n",
       "      <th>1</th>\n",
       "      <td>10000</td>\n",
       "    </tr>\n",
       "    <tr>\n",
       "      <th>2</th>\n",
       "      <td>10000000</td>\n",
       "    </tr>\n",
       "    <tr>\n",
       "      <th>3</th>\n",
       "      <td>40000</td>\n",
       "    </tr>\n",
       "    <tr>\n",
       "      <th>4</th>\n",
       "      <td>25000000</td>\n",
       "    </tr>\n",
       "  </tbody>\n",
       "</table>\n",
       "</div>"
      ],
      "text/plain": [
       "   Funds_Sample2\n",
       "0          25000\n",
       "1          10000\n",
       "2       10000000\n",
       "3          40000\n",
       "4       25000000"
      ]
     },
     "execution_count": 43,
     "metadata": {},
     "output_type": "execute_result"
    }
   ],
   "source": [
    "df2.head()"
   ]
  },
  {
   "cell_type": "markdown",
   "id": "14ec3738-46b0-4d25-8019-368053974ec3",
   "metadata": {},
   "source": [
    "This provides insights into the funds raised by startups that are closed. It highlights the financial resources these active startups have accumulated, offering a clearer understanding of their funding levels"
   ]
  },
  {
   "cell_type": "code",
   "execution_count": 44,
   "id": "defb4108-c948-4395-b883-df75b1347027",
   "metadata": {},
   "outputs": [
    {
     "data": {
      "text/html": [
       "<div>\n",
       "<style scoped>\n",
       "    .dataframe tbody tr th:only-of-type {\n",
       "        vertical-align: middle;\n",
       "    }\n",
       "\n",
       "    .dataframe tbody tr th {\n",
       "        vertical-align: top;\n",
       "    }\n",
       "\n",
       "    .dataframe thead th {\n",
       "        text-align: right;\n",
       "    }\n",
       "</style>\n",
       "<table border=\"1\" class=\"dataframe\">\n",
       "  <thead>\n",
       "    <tr style=\"text-align: right;\">\n",
       "      <th></th>\n",
       "      <th>Funds_Sample2</th>\n",
       "    </tr>\n",
       "  </thead>\n",
       "  <tbody>\n",
       "    <tr>\n",
       "      <th>0</th>\n",
       "      <td>25000</td>\n",
       "    </tr>\n",
       "    <tr>\n",
       "      <th>1</th>\n",
       "      <td>10000</td>\n",
       "    </tr>\n",
       "    <tr>\n",
       "      <th>2</th>\n",
       "      <td>10000000</td>\n",
       "    </tr>\n",
       "    <tr>\n",
       "      <th>3</th>\n",
       "      <td>40000</td>\n",
       "    </tr>\n",
       "    <tr>\n",
       "      <th>4</th>\n",
       "      <td>25000000</td>\n",
       "    </tr>\n",
       "  </tbody>\n",
       "</table>\n",
       "</div>"
      ],
      "text/plain": [
       "   Funds_Sample2\n",
       "0          25000\n",
       "1          10000\n",
       "2       10000000\n",
       "3          40000\n",
       "4       25000000"
      ]
     },
     "execution_count": 44,
     "metadata": {},
     "output_type": "execute_result"
    }
   ],
   "source": [
    "df2.head()"
   ]
  },
  {
   "cell_type": "code",
   "execution_count": 45,
   "id": "aa660a2b-f423-4d7e-88c2-bfba029744ac",
   "metadata": {},
   "outputs": [
    {
     "data": {
      "text/html": [
       "<div>\n",
       "<style scoped>\n",
       "    .dataframe tbody tr th:only-of-type {\n",
       "        vertical-align: middle;\n",
       "    }\n",
       "\n",
       "    .dataframe tbody tr th {\n",
       "        vertical-align: top;\n",
       "    }\n",
       "\n",
       "    .dataframe thead th {\n",
       "        text-align: right;\n",
       "    }\n",
       "</style>\n",
       "<table border=\"1\" class=\"dataframe\">\n",
       "  <thead>\n",
       "    <tr style=\"text-align: right;\">\n",
       "      <th></th>\n",
       "      <th>Funds_Sample1</th>\n",
       "      <th>Funds_Sample2</th>\n",
       "    </tr>\n",
       "  </thead>\n",
       "  <tbody>\n",
       "    <tr>\n",
       "      <th>0</th>\n",
       "      <td>10000000</td>\n",
       "      <td>25000</td>\n",
       "    </tr>\n",
       "    <tr>\n",
       "      <th>1</th>\n",
       "      <td>6369507</td>\n",
       "      <td>10000</td>\n",
       "    </tr>\n",
       "    <tr>\n",
       "      <th>2</th>\n",
       "      <td>4000000</td>\n",
       "      <td>10000000</td>\n",
       "    </tr>\n",
       "    <tr>\n",
       "      <th>3</th>\n",
       "      <td>20000</td>\n",
       "      <td>40000</td>\n",
       "    </tr>\n",
       "    <tr>\n",
       "      <th>4</th>\n",
       "      <td>2065000</td>\n",
       "      <td>25000000</td>\n",
       "    </tr>\n",
       "  </tbody>\n",
       "</table>\n",
       "</div>"
      ],
      "text/plain": [
       "   Funds_Sample1  Funds_Sample2\n",
       "0       10000000          25000\n",
       "1        6369507          10000\n",
       "2        4000000       10000000\n",
       "3          20000          40000\n",
       "4        2065000       25000000"
      ]
     },
     "execution_count": 45,
     "metadata": {},
     "output_type": "execute_result"
    }
   ],
   "source": [
    "# Creating a new dataframe for further analysis\n",
    "df3 = pd.concat([df1, df2], axis = 1)\n",
    "df3.head()"
   ]
  },
  {
   "cell_type": "code",
   "execution_count": 46,
   "id": "be660a44-dfab-49ba-afcc-e82155d30bb8",
   "metadata": {},
   "outputs": [
    {
     "name": "stdout",
     "output_type": "stream",
     "text": [
      "Mean funds (in million) for startup which are operating is: 23981373.343251728\n"
     ]
    }
   ],
   "source": [
    "# Funds_Sample1 represents funds for operating startup\n",
    "\n",
    "# Mean funds (in million) for startup which are operating\n",
    "mean_1=df3['Funds_Sample1'].mean()\n",
    "\n",
    "print('Mean funds (in million) for startup which are operating is:',mean_1)"
   ]
  },
  {
   "cell_type": "code",
   "execution_count": 47,
   "id": "c607b627-999c-44ce-8fa8-8a5b2648e054",
   "metadata": {},
   "outputs": [
    {
     "name": "stdout",
     "output_type": "stream",
     "text": [
      "Mean funds (in million) for startup which are closed is: 10322911.346938776\n"
     ]
    }
   ],
   "source": [
    "# Funds_Sample2 represents funds for closed startup\n",
    "\n",
    "# Mean funds (in million) for startup which are closed\n",
    "mean_2=df3['Funds_Sample2'].mean()\n",
    "\n",
    "print('Mean funds (in million) for startup which are closed is:',mean_2)"
   ]
  },
  {
   "cell_type": "markdown",
   "id": "67780d18-b317-496a-80fd-08713ed1cae9",
   "metadata": {},
   "source": [
    "Null Hypothesis\n",
    "\n",
    "H0= there is no significant difference between the mean funds raised by the two groups i.e. startups which are operating & startups which are closed\n",
    "\n",
    "i.e. H0: mean_1 = mean_2\n",
    "\n",
    "Alternative hypothesis\n",
    "\n",
    "H1 = there is significant difference between the mean funds raised by the two groups i.e. startups which are operating & startups which are closed\n",
    "\n",
    "i.e. H1: mean_1 != mean_2\n",
    "\n",
    "Also our alpha is 0.05"
   ]
  },
  {
   "cell_type": "code",
   "execution_count": 48,
   "id": "9b182a05-b2a9-409a-9a58-250222a446f5",
   "metadata": {},
   "outputs": [],
   "source": [
    "#load library\n",
    "\n",
    "from scipy.stats import ttest_ind"
   ]
  },
  {
   "cell_type": "code",
   "execution_count": 49,
   "id": "663bad6c-d7fb-41d3-a23c-334dc4884cba",
   "metadata": {},
   "outputs": [
    {
     "name": "stdout",
     "output_type": "stream",
     "text": [
      "T-statistic: 0.6085283061630911\n",
      "P-value: 0.5429592211146083\n"
     ]
    }
   ],
   "source": [
    "# Hypothesis Testing\n",
    "\n",
    "t, pvalue = ttest_ind(df3['Funds_Sample1'], df3['Funds_Sample2'], nan_policy = 'omit') #omit saying there willbe null values in sample2 since number of closed startups are less\n",
    "\n",
    "# Print results\n",
    "print('T-statistic:', t)\n",
    "print('P-value:', pvalue)"
   ]
  },
  {
   "cell_type": "markdown",
   "id": "8707e8c7-f3d2-42ef-bc0a-78c69734237d",
   "metadata": {},
   "source": [
    "The p-value, which is greater than the chosen alpha level (i.e., 0.54 > 0.05), leads us to fail to reject the null hypothesis with 95% confidence. Therefore, we conclude that there is no statistically significant difference in the funds raised between currently operating startups and closed startups."
   ]
  },
  {
   "cell_type": "markdown",
   "id": "dc4a3e0a-01df-45b5-879f-f61735115249",
   "metadata": {},
   "source": [
    "### Number of Funding Rounds"
   ]
  },
  {
   "cell_type": "code",
   "execution_count": 54,
   "id": "4711b1ae-f7bb-4d17-9637-95b5e7d0abbf",
   "metadata": {},
   "outputs": [
    {
     "data": {
      "text/html": [
       "<div>\n",
       "<style scoped>\n",
       "    .dataframe tbody tr th:only-of-type {\n",
       "        vertical-align: middle;\n",
       "    }\n",
       "\n",
       "    .dataframe tbody tr th {\n",
       "        vertical-align: top;\n",
       "    }\n",
       "\n",
       "    .dataframe thead th {\n",
       "        text-align: right;\n",
       "    }\n",
       "</style>\n",
       "<table border=\"1\" class=\"dataframe\">\n",
       "  <thead>\n",
       "    <tr style=\"text-align: right;\">\n",
       "      <th></th>\n",
       "      <th>permalink</th>\n",
       "      <th>name</th>\n",
       "      <th>homepage_url</th>\n",
       "      <th>category_list</th>\n",
       "      <th>funding_total_usd</th>\n",
       "      <th>status</th>\n",
       "      <th>country_code</th>\n",
       "      <th>state_code</th>\n",
       "      <th>region</th>\n",
       "      <th>city</th>\n",
       "      <th>funding_rounds</th>\n",
       "      <th>founded_at</th>\n",
       "      <th>first_funding_at</th>\n",
       "      <th>last_funding_at</th>\n",
       "      <th>rounds of funding category</th>\n",
       "    </tr>\n",
       "  </thead>\n",
       "  <tbody>\n",
       "    <tr>\n",
       "      <th>0</th>\n",
       "      <td>/organization/-fame</td>\n",
       "      <td>#fame</td>\n",
       "      <td>http://livfame.com</td>\n",
       "      <td>Media</td>\n",
       "      <td>10000000</td>\n",
       "      <td>operating</td>\n",
       "      <td>IND</td>\n",
       "      <td>16</td>\n",
       "      <td>Mumbai</td>\n",
       "      <td>Mumbai</td>\n",
       "      <td>1</td>\n",
       "      <td>NaN</td>\n",
       "      <td>2015-01-05</td>\n",
       "      <td>2015-01-05</td>\n",
       "      <td>1</td>\n",
       "    </tr>\n",
       "    <tr>\n",
       "      <th>1</th>\n",
       "      <td>/organization/21diamonds-india</td>\n",
       "      <td>21Diamonds</td>\n",
       "      <td>http://www.21diamonds.de</td>\n",
       "      <td>E-Commerce</td>\n",
       "      <td>6369507</td>\n",
       "      <td>operating</td>\n",
       "      <td>IND</td>\n",
       "      <td>10</td>\n",
       "      <td>New Delhi</td>\n",
       "      <td>Gurgaon</td>\n",
       "      <td>1</td>\n",
       "      <td>2012-06-01 00:00:00</td>\n",
       "      <td>2012-11-15</td>\n",
       "      <td>2012-11-15</td>\n",
       "      <td>1</td>\n",
       "    </tr>\n",
       "    <tr>\n",
       "      <th>2</th>\n",
       "      <td>/organization/247-learning-private</td>\n",
       "      <td>24x7 Learning</td>\n",
       "      <td>http://www.24x7learning.com</td>\n",
       "      <td>EdTech|Education|Systems</td>\n",
       "      <td>4000000</td>\n",
       "      <td>operating</td>\n",
       "      <td>IND</td>\n",
       "      <td>19</td>\n",
       "      <td>Bangalore</td>\n",
       "      <td>Bangalore</td>\n",
       "      <td>1</td>\n",
       "      <td>2001-01-01 00:00:00</td>\n",
       "      <td>2007-11-06</td>\n",
       "      <td>2007-11-06</td>\n",
       "      <td>1</td>\n",
       "    </tr>\n",
       "    <tr>\n",
       "      <th>3</th>\n",
       "      <td>/organization/33coupons</td>\n",
       "      <td>33Coupons</td>\n",
       "      <td>http://33coupons.in</td>\n",
       "      <td>Internet</td>\n",
       "      <td>20000</td>\n",
       "      <td>operating</td>\n",
       "      <td>IND</td>\n",
       "      <td>36</td>\n",
       "      <td>Kanpur</td>\n",
       "      <td>Kanpur</td>\n",
       "      <td>1</td>\n",
       "      <td>2015-05-01 00:00:00</td>\n",
       "      <td>2015-07-06</td>\n",
       "      <td>2015-07-06</td>\n",
       "      <td>1</td>\n",
       "    </tr>\n",
       "    <tr>\n",
       "      <th>4</th>\n",
       "      <td>/organization/3dsoc</td>\n",
       "      <td>3DSoC</td>\n",
       "      <td>http://www.3dsoc.com</td>\n",
       "      <td>3D|Mobile</td>\n",
       "      <td>2065000</td>\n",
       "      <td>operating</td>\n",
       "      <td>IND</td>\n",
       "      <td>19</td>\n",
       "      <td>Bangalore</td>\n",
       "      <td>Bangalore</td>\n",
       "      <td>2</td>\n",
       "      <td>2006-06-01 00:00:00</td>\n",
       "      <td>2007-12-01</td>\n",
       "      <td>2010-08-01</td>\n",
       "      <td>2</td>\n",
       "    </tr>\n",
       "  </tbody>\n",
       "</table>\n",
       "</div>"
      ],
      "text/plain": [
       "                            permalink           name  \\\n",
       "0                 /organization/-fame          #fame   \n",
       "1      /organization/21diamonds-india     21Diamonds   \n",
       "2  /organization/247-learning-private  24x7 Learning   \n",
       "3             /organization/33coupons      33Coupons   \n",
       "4                 /organization/3dsoc          3DSoC   \n",
       "\n",
       "                  homepage_url             category_list  funding_total_usd  \\\n",
       "0           http://livfame.com                     Media           10000000   \n",
       "1     http://www.21diamonds.de                E-Commerce            6369507   \n",
       "2  http://www.24x7learning.com  EdTech|Education|Systems            4000000   \n",
       "3          http://33coupons.in                  Internet              20000   \n",
       "4         http://www.3dsoc.com                 3D|Mobile            2065000   \n",
       "\n",
       "      status country_code  state_code     region       city  funding_rounds  \\\n",
       "0  operating          IND          16     Mumbai     Mumbai               1   \n",
       "1  operating          IND          10  New Delhi    Gurgaon               1   \n",
       "2  operating          IND          19  Bangalore  Bangalore               1   \n",
       "3  operating          IND          36     Kanpur     Kanpur               1   \n",
       "4  operating          IND          19  Bangalore  Bangalore               2   \n",
       "\n",
       "            founded_at first_funding_at last_funding_at  \\\n",
       "0                  NaN       2015-01-05      2015-01-05   \n",
       "1  2012-06-01 00:00:00       2012-11-15      2012-11-15   \n",
       "2  2001-01-01 00:00:00       2007-11-06      2007-11-06   \n",
       "3  2015-05-01 00:00:00       2015-07-06      2015-07-06   \n",
       "4  2006-06-01 00:00:00       2007-12-01      2010-08-01   \n",
       "\n",
       "  rounds of funding category  \n",
       "0                          1  \n",
       "1                          1  \n",
       "2                          1  \n",
       "3                          1  \n",
       "4                          2  "
      ]
     },
     "execution_count": 54,
     "metadata": {},
     "output_type": "execute_result"
    }
   ],
   "source": [
    "# Define a function to categorize funding rounds\n",
    "def categorize_rounds(round):\n",
    "    if round == 1:\n",
    "        return '1'\n",
    "    elif round == 2:\n",
    "        return '2'\n",
    "    else:\n",
    "        return '3+'\n",
    "\n",
    "# Apply the categorize_rounds function to create a new 'category' column\n",
    "df['rounds of funding category'] = df['funding_rounds'].apply(categorize_rounds)\n",
    "\n",
    "# Print the DataFrame with the new category column\n",
    "df.head()"
   ]
  },
  {
   "cell_type": "code",
   "execution_count": 56,
   "id": "155c3531-dd1d-4dff-949d-d2ff55d11e0c",
   "metadata": {},
   "outputs": [
    {
     "data": {
      "text/html": [
       "<div>\n",
       "<style scoped>\n",
       "    .dataframe tbody tr th:only-of-type {\n",
       "        vertical-align: middle;\n",
       "    }\n",
       "\n",
       "    .dataframe tbody tr th {\n",
       "        vertical-align: top;\n",
       "    }\n",
       "\n",
       "    .dataframe thead th {\n",
       "        text-align: right;\n",
       "    }\n",
       "</style>\n",
       "<table border=\"1\" class=\"dataframe\">\n",
       "  <thead>\n",
       "    <tr style=\"text-align: right;\">\n",
       "      <th>status</th>\n",
       "      <th>closed</th>\n",
       "      <th>operating</th>\n",
       "    </tr>\n",
       "    <tr>\n",
       "      <th>rounds of funding category</th>\n",
       "      <th></th>\n",
       "      <th></th>\n",
       "    </tr>\n",
       "  </thead>\n",
       "  <tbody>\n",
       "    <tr>\n",
       "      <th>1</th>\n",
       "      <td>39</td>\n",
       "      <td>756</td>\n",
       "    </tr>\n",
       "    <tr>\n",
       "      <th>2</th>\n",
       "      <td>7</td>\n",
       "      <td>198</td>\n",
       "    </tr>\n",
       "    <tr>\n",
       "      <th>3+</th>\n",
       "      <td>3</td>\n",
       "      <td>131</td>\n",
       "    </tr>\n",
       "  </tbody>\n",
       "</table>\n",
       "</div>"
      ],
      "text/plain": [
       "status                      closed  operating\n",
       "rounds of funding category                   \n",
       "1                               39        756\n",
       "2                                7        198\n",
       "3+                               3        131"
      ]
     },
     "execution_count": 56,
     "metadata": {},
     "output_type": "execute_result"
    }
   ],
   "source": [
    "# Create cross tab\n",
    "pd.crosstab(df['rounds of funding category'], df['status'])"
   ]
  },
  {
   "cell_type": "code",
   "execution_count": 58,
   "id": "cf0b9263-918f-40bb-a3b2-db44eef72f58",
   "metadata": {},
   "outputs": [
    {
     "name": "stdout",
     "output_type": "stream",
     "text": [
      "Expected Frequencies:\n",
      "status                      closed  operating\n",
      "rounds of funding category                   \n",
      "1                               34        761\n",
      "2                                9        196\n",
      "3+                               6        128\n"
     ]
    }
   ],
   "source": [
    "contingency_table = pd.crosstab(df['rounds of funding category'], df['status'])\n",
    "\n",
    "# Calculate expected frequencies\n",
    "expected_frequencies = stats.contingency.expected_freq(contingency_table)\n",
    "\n",
    "# Create a DataFrame to display the expected frequencies\n",
    "expected_df = pd.DataFrame(expected_frequencies, columns=contingency_table.columns, index=contingency_table.index)\n",
    "\n",
    "# Display the expected frequencies\n",
    "print(\"Expected Frequencies:\")\n",
    "print(expected_df)"
   ]
  },
  {
   "cell_type": "markdown",
   "id": "0b346a1e-f498-4d3e-915d-8af906b22f5c",
   "metadata": {},
   "source": [
    "All the values in the expected frequencies exceed the threshold of 5, indicating that our dataset meets the assumption of expected cell frequencies for the Chi-Square Test of Independence. Consequently, we are well-equipped to advance with our hypothesis testing"
   ]
  },
  {
   "cell_type": "code",
   "execution_count": 60,
   "id": "75730e80-8b06-4cb5-ae10-9bc78b815083",
   "metadata": {},
   "outputs": [
    {
     "name": "stdout",
     "output_type": "stream",
     "text": [
      "Expected Frequencies:\n",
      "status                      closed  operating\n",
      "rounds of funding category                   \n",
      "1                               34        761\n",
      "2                                9        196\n",
      "3+                               6        128\n"
     ]
    }
   ],
   "source": [
    "contingency_table = pd.crosstab(df['rounds of funding category'], df['status'])\n",
    "\n",
    "# Calculate expected frequencies\n",
    "expected_frequencies = stats.contingency.expected_freq(contingency_table)\n",
    "\n",
    "# Create a DataFrame to display the expected frequencies\n",
    "expected_df = pd.DataFrame(expected_frequencies, columns=contingency_table.columns, index=contingency_table.index)\n",
    "\n",
    "# Display the expected frequencies\n",
    "print(\"Expected Frequencies:\")\n",
    "print(expected_df)"
   ]
  },
  {
   "cell_type": "markdown",
   "id": "777ddee8-1c2f-4dc3-aec5-15ddf12d0c3e",
   "metadata": {},
   "source": [
    "All the values in the expected frequencies exceed the threshold of 5, indicating that our dataset meets the assumption of expected cell frequencies for the Chi-Square Test of Independence. Consequently, we are well-equipped to advance with our hypothesis testing"
   ]
  },
  {
   "cell_type": "code",
   "execution_count": 61,
   "id": "1f40ceae-184f-406b-b8bd-5aad94a00998",
   "metadata": {},
   "outputs": [
    {
     "name": "stdout",
     "output_type": "stream",
     "text": [
      "The p-value is 0.2908506204110049\n"
     ]
    }
   ],
   "source": [
    "# Import library\n",
    "from scipy.stats import chi2_contingency\n",
    "\n",
    "# Run the Chi Square Test\n",
    "\n",
    "chi2, pval, dof, exp_freq = chi2_contingency(contingency_table, correction = False)\n",
    "print('The p-value is',pval)"
   ]
  },
  {
   "cell_type": "markdown",
   "id": "b5904a02-918c-4403-9e0b-6cfe69904641",
   "metadata": {},
   "source": [
    "p value > 0.05 as a result, we fail to reject the null hypothesis. This suggests that there is no statistically significant difference in the number of funding rounds between currently operating startups and startups that have closed, based on our dataset and chosen level of significance.\n",
    "\n",
    "Based on the statistical analyses conducted, it can be concluded that:\n",
    "\n",
    "There is no statistically significant difference in the funds raised by currently operating startups and startups that have closed, as per the independent sample t-test. There is no statistically significant association between the number of funding rounds and the status of startups, as indicated by the Chi-Square Test of Independence."
   ]
  }
 ],
 "metadata": {
  "kernelspec": {
   "display_name": "Python 3 (ipykernel)",
   "language": "python",
   "name": "python3"
  },
  "language_info": {
   "codemirror_mode": {
    "name": "ipython",
    "version": 3
   },
   "file_extension": ".py",
   "mimetype": "text/x-python",
   "name": "python",
   "nbconvert_exporter": "python",
   "pygments_lexer": "ipython3",
   "version": "3.12.4"
  }
 },
 "nbformat": 4,
 "nbformat_minor": 5
}
